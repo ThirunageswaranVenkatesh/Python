{
 "cells": [
  {
   "cell_type": "code",
   "execution_count": 1,
   "metadata": {},
   "outputs": [],
   "source": [
    "#Reference\n",
    "#https://developers.google.com/edu/python/dict-files"
   ]
  },
  {
   "cell_type": "code",
   "execution_count": 2,
   "metadata": {},
   "outputs": [
    {
     "name": "stdout",
     "output_type": "stream",
     "text": [
      "Empty Dictionary: \n",
      "{}\n"
     ]
    }
   ],
   "source": [
    "Dict = {}\n",
    "print(\"Empty Dictionary: \")\n",
    "print(Dict)\n"
   ]
  },
  {
   "cell_type": "code",
   "execution_count": 3,
   "metadata": {},
   "outputs": [
    {
     "name": "stdout",
     "output_type": "stream",
     "text": [
      "\n",
      "Dictionary with the use of Integer Keys: \n",
      "{1: 'Geeks', 2: 'For', 3: 'Geeks'}\n"
     ]
    }
   ],
   "source": [
    "# Creating a Dictionary with Integer Keys\n",
    "Dict = {1: 'Geeks', 2: 'For', 3: 'Geeks'}\n",
    "print(\"\\nDictionary with the use of Integer Keys: \")\n",
    "print(Dict)"
   ]
  },
  {
   "cell_type": "code",
   "execution_count": 4,
   "metadata": {},
   "outputs": [
    {
     "name": "stdout",
     "output_type": "stream",
     "text": [
      "\n",
      "Dictionary with the use of dict(): \n",
      "{1: 'Geeks', 2: 'For', 3: 'Geeks'}\n"
     ]
    }
   ],
   "source": [
    "# Creating a Dictionary with dict() method\n",
    "Dict = dict({1: 'Geeks', 2: 'For', 3: 'Geeks'})\n",
    "print(\"\\nDictionary with the use of dict(): \")\n",
    "print(Dict)"
   ]
  },
  {
   "cell_type": "code",
   "execution_count": 5,
   "metadata": {},
   "outputs": [
    {
     "name": "stdout",
     "output_type": "stream",
     "text": [
      "\n",
      "Dictionary with each item as a pair: \n",
      "{1: 'Geeks', 2: 'For'}\n"
     ]
    }
   ],
   "source": [
    "# Creating a Dictionary with each item as a Pair\n",
    "Dict = dict([(1, 'Geeks'), (2, 'For')])\n",
    "print(\"\\nDictionary with each item as a pair: \")\n",
    "print(Dict)"
   ]
  },
  {
   "cell_type": "code",
   "execution_count": 5,
   "metadata": {},
   "outputs": [
    {
     "name": "stdout",
     "output_type": "stream",
     "text": [
      "dict_items([('C', 'ccc'), ('O', 'ooo'), ('D', 'ddd'), ('I', 'iii'), ('N', 'nnn'), ('G', 'ggg')])\n",
      "{'C': 'ccc', 'O': 'ooo', 'D': 'ddd', 'I': 'iii', 'N': 'nnn', 'G': 'ggg'}\n",
      "dict_keys(['C', 'O', 'D', 'I', 'N', 'G'])\n",
      "dict_values(['ccc', 'ooo', 'ddd', 'iii', 'nnn', 'ggg'])\n",
      "{'C': 'ccc', 'O': 'ooo', 'D': 'ddd', 'I': 'iii', 'N': 'nnn', 'G': 'ggg'}\n",
      "{}\n"
     ]
    }
   ],
   "source": [
    "#Dynamic Dicticnary creation with traversing Key & Values\n",
    "sDict = {x.upper(): x*3 for x in 'coding'}\n",
    "print (sDict.items())\n",
    "print (sDict)\n",
    "print (sDict.keys())\n",
    "print (sDict.values())\n",
    "print (sDict.copy())\n",
    "sDict.clear()\n",
    "print (sDict)"
   ]
  },
  {
   "cell_type": "code",
   "execution_count": 7,
   "metadata": {},
   "outputs": [
    {
     "name": "stdout",
     "output_type": "stream",
     "text": [
      "C ccc\n",
      "D ddd\n",
      "G ggg\n",
      "I iii\n",
      "N nnn\n",
      "O ooo\n",
      "C\n",
      "O\n",
      "D\n",
      "I\n",
      "N\n",
      "G\n",
      "C\n",
      "ccc\n",
      "O\n",
      "ooo\n",
      "D\n",
      "ddd\n",
      "I\n",
      "iii\n",
      "N\n",
      "nnn\n",
      "G\n",
      "ggg\n"
     ]
    }
   ],
   "source": [
    "#Accessing Key and Value through loops\n",
    "sDict = {x.upper(): x*3 for x in 'coding'}\n",
    "\n",
    "for key in sorted(sDict.keys()):\n",
    "    print (key, sDict[key])\n",
    "for key in sDict:\n",
    "    print(key)\n",
    "\n",
    "for k, v in sDict.items():\n",
    "    print(k)\n",
    "    print(v)"
   ]
  },
  {
   "cell_type": "code",
   "execution_count": 4,
   "metadata": {},
   "outputs": [
    {
     "name": "stdout",
     "output_type": "stream",
     "text": [
      "6\n",
      "{'C': 'ccc', 'O': 'ooo', 'D': 'ddd', 'I': 'iii', 'N': 'nnn', 'G': 'ggg'}\n",
      "<class 'dict'>\n",
      "None\n"
     ]
    }
   ],
   "source": [
    "sDict = {x.upper(): x*3 for x in 'coding'}\n",
    "print (len(sDict))\n",
    "print (str(sDict))\n",
    "print (type(sDict))\n",
    "\n",
    "print (sDict.get('9'))"
   ]
  },
  {
   "cell_type": "code",
   "execution_count": 7,
   "metadata": {},
   "outputs": [
    {
     "name": "stdout",
     "output_type": "stream",
     "text": [
      "Pthon\n",
      "5\n"
     ]
    }
   ],
   "source": [
    "dict={1:[\"Pthon\",\"Java\"],2:(3,4,5)}\n",
    "print(dict[1][0])\n",
    "print(dict[2][2])"
   ]
  },
  {
   "cell_type": "code",
   "execution_count": null,
   "metadata": {},
   "outputs": [],
   "source": []
  }
 ],
 "metadata": {
  "kernelspec": {
   "display_name": "Python 3",
   "language": "python",
   "name": "python3"
  },
  "language_info": {
   "codemirror_mode": {
    "name": "ipython",
    "version": 3
   },
   "file_extension": ".py",
   "mimetype": "text/x-python",
   "name": "python",
   "nbconvert_exporter": "python",
   "pygments_lexer": "ipython3",
   "version": "3.7.3"
  }
 },
 "nbformat": 4,
 "nbformat_minor": 2
}
